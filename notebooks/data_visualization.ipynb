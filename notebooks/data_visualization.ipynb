{
 "cells": [
  {
   "cell_type": "code",
   "execution_count": 7,
   "id": "772f2b23",
   "metadata": {},
   "outputs": [],
   "source": [
    "import pandas as pd\n",
    "import matplotlib.pyplot as plt\n",
    "import numpy as np"
   ]
  },
  {
   "cell_type": "markdown",
   "id": "1f37cb6c",
   "metadata": {},
   "source": [
    "# Classification view"
   ]
  },
  {
   "cell_type": "code",
   "execution_count": 8,
   "id": "a6c415fa",
   "metadata": {},
   "outputs": [],
   "source": [
    "df = pd.read_csv('../data/outputs/classifications.csv')"
   ]
  },
  {
   "cell_type": "code",
   "execution_count": 9,
   "id": "9909db91",
   "metadata": {},
   "outputs": [
    {
     "data": {
      "text/html": [
       "<div>\n",
       "<style scoped>\n",
       "    .dataframe tbody tr th:only-of-type {\n",
       "        vertical-align: middle;\n",
       "    }\n",
       "\n",
       "    .dataframe tbody tr th {\n",
       "        vertical-align: top;\n",
       "    }\n",
       "\n",
       "    .dataframe thead th {\n",
       "        text-align: right;\n",
       "    }\n",
       "</style>\n",
       "<table border=\"1\" class=\"dataframe\">\n",
       "  <thead>\n",
       "    <tr style=\"text-align: right;\">\n",
       "      <th></th>\n",
       "      <th>nome</th>\n",
       "      <th>sentimento</th>\n",
       "      <th>frase</th>\n",
       "    </tr>\n",
       "  </thead>\n",
       "  <tbody>\n",
       "    <tr>\n",
       "      <th>0</th>\n",
       "      <td>Vinícius Fontes de Andrade</td>\n",
       "      <td>1</td>\n",
       "      <td>O Ararabots me proporcionou experiências e mel...</td>\n",
       "    </tr>\n",
       "    <tr>\n",
       "      <th>1</th>\n",
       "      <td>Lucas Santana Escobar</td>\n",
       "      <td>1</td>\n",
       "      <td>Além disto, formou laços de amizade duradouros...</td>\n",
       "    </tr>\n",
       "    <tr>\n",
       "      <th>2</th>\n",
       "      <td>Matheus Kazumi Silva Miyashiro</td>\n",
       "      <td>1</td>\n",
       "      <td>Do ponto de vista técnico, pude aplicar e apro...</td>\n",
       "    </tr>\n",
       "    <tr>\n",
       "      <th>3</th>\n",
       "      <td>Guilherme Brugeff Teles</td>\n",
       "      <td>1</td>\n",
       "      <td>Me ajudou a desenvolver minha capacidade de in...</td>\n",
       "    </tr>\n",
       "    <tr>\n",
       "      <th>4</th>\n",
       "      <td>João Valente</td>\n",
       "      <td>0</td>\n",
       "      <td>A participação no AraraBots ainda não teve um ...</td>\n",
       "    </tr>\n",
       "  </tbody>\n",
       "</table>\n",
       "</div>"
      ],
      "text/plain": [
       "                             nome  sentimento  \\\n",
       "0      Vinícius Fontes de Andrade           1   \n",
       "1          Lucas Santana Escobar            1   \n",
       "2  Matheus Kazumi Silva Miyashiro           1   \n",
       "3        Guilherme Brugeff Teles            1   \n",
       "4                   João Valente            0   \n",
       "\n",
       "                                               frase  \n",
       "0  O Ararabots me proporcionou experiências e mel...  \n",
       "1  Além disto, formou laços de amizade duradouros...  \n",
       "2  Do ponto de vista técnico, pude aplicar e apro...  \n",
       "3  Me ajudou a desenvolver minha capacidade de in...  \n",
       "4  A participação no AraraBots ainda não teve um ...  "
      ]
     },
     "execution_count": 9,
     "metadata": {},
     "output_type": "execute_result"
    }
   ],
   "source": [
    "df.head()"
   ]
  },
  {
   "cell_type": "code",
   "execution_count": 10,
   "id": "213c175e",
   "metadata": {},
   "outputs": [
    {
     "data": {
      "text/plain": [
       "array([1, 1, 1, 1, 0, 1, 1, 1, 1, 1, 1, 1, 1, 1, 1, 1, 1, 1, 1, 1, 1, 1,\n",
       "       1, 1, 1, 1, 0, 1, 0, 1, 1, 1, 1, 1, 1])"
      ]
     },
     "execution_count": 10,
     "metadata": {},
     "output_type": "execute_result"
    }
   ],
   "source": [
    "data = df['sentimento'].copy()\n",
    "data = data.to_numpy()\n",
    "data"
   ]
  },
  {
   "cell_type": "code",
   "execution_count": 16,
   "id": "931a1f14",
   "metadata": {},
   "outputs": [
    {
     "data": {
      "image/png": "[encoded data removed]",
      "text/plain": [
       "<Figure size 600x300 with 1 Axes>"
      ]
     },
     "metadata": {},
     "output_type": "display_data"
    }
   ],
   "source": [
    "label_map = {-1: 'Negative', 0: 'Neutral', 1: 'Positive'}\n",
    "color_map = {\n",
    "    -1: '#971B2F',  # vermelho forte\n",
    "     0: '#F0B232',  # cinza-azulado neutro\n",
    "     1: '#509E2F'   # verde moderado\n",
    "}\n",
    "\n",
    "\n",
    "counts = df['sentimento'].value_counts().sort_index()\n",
    "data = counts.values\n",
    "labels = [label_map[i] for i in counts.index]\n",
    "colors = [color_map[i] for i in counts.index]\n",
    "\n",
    "fig, ax = plt.subplots(figsize=(6, 3), subplot_kw=dict(aspect=\"equal\"))\n",
    "\n",
    "wedges, texts = ax.pie(data, colors=colors, wedgeprops=dict(width=0.5), startangle=-40)\n",
    "\n",
    "bbox_props = dict(boxstyle=\"square,pad=0.3\", fc=\"w\", ec=\"k\", lw=0.72)\n",
    "kw = dict(arrowprops=dict(arrowstyle=\"-\"),\n",
    "          bbox=bbox_props, zorder=0, va=\"center\")\n",
    "\n",
    "for i, p in enumerate(wedges):\n",
    "    ang = (p.theta2 - p.theta1)/2. + p.theta1\n",
    "    y = np.sin(np.deg2rad(ang))\n",
    "    x = np.cos(np.deg2rad(ang))\n",
    "    ha = \"right\" if x < 0 else \"left\"\n",
    "    connectionstyle = f\"angle,angleA=0,angleB={ang}\"\n",
    "    kw[\"arrowprops\"].update({\"connectionstyle\": connectionstyle})\n",
    "    ax.annotate(f\"{labels[i]}: {data[i]}\", xy=(x, y), xytext=(1.35*np.sign(x), 1.4*y),\n",
    "                horizontalalignment=ha, **kw)\n",
    "\n",
    "ax.set_title(\"Sentiment Distribution\")\n",
    "plt.show()\n"
   ]
  },
  {
   "cell_type": "code",
   "execution_count": null,
   "id": "25568f0d",
   "metadata": {},
   "outputs": [],
   "source": []
  }
 ],
 "metadata": {
  "kernelspec": {
   "display_name": "venv",
   "language": "python",
   "name": "python3"
  },
  "language_info": {
   "codemirror_mode": {
    "name": "ipython",
    "version": 3
   },
   "file_extension": ".py",
   "mimetype": "text/x-python",
   "name": "python",
   "nbconvert_exporter": "python",
   "pygments_lexer": "ipython3",
   "version": "3.13.3"
  }
 },
 "nbformat": 4,
 "nbformat_minor": 5
}
